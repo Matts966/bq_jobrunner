{
 "cells": [
  {
   "cell_type": "code",
   "execution_count": 5,
   "metadata": {},
   "outputs": [],
   "source": [
    "import bq_jobrunner as jr"
   ]
  },
  {
   "cell_type": "code",
   "execution_count": 6,
   "metadata": {},
   "outputs": [],
   "source": [
    "a = jr.bq_jobrunner('sugisaki-sandbox','/Users/takuto/.credentials.json','asia-northeast1')"
   ]
  },
  {
   "cell_type": "code",
   "execution_count": 7,
   "metadata": {},
   "outputs": [],
   "source": [
    "sql = '''\n",
    "\n",
    "SELECT * FROM `sugisaki-sandbox.bq_test.TR_DELIVERY_001` \n",
    "where date between '2016-01-01' and '2017-01-01'\n",
    "\n",
    "'''\n",
    "a.compose_query(1,sql,\"bq_test\",\"query_1\",common_name='2016_del')"
   ]
  },
  {
   "cell_type": "code",
   "execution_count": 8,
   "metadata": {},
   "outputs": [],
   "source": [
    "sql2 = '''\n",
    "\n",
    "SELECT * FROM `sugisaki-sandbox.bq_test.TR_DELIVERY_000` \n",
    "where date not between '2015-01-01' and '2016-01-01'\n",
    "\n",
    "'''\n",
    "a.compose_query(2,sql2,\"bq_test\",\"query_2\",common_name='2015_del')"
   ]
  },
  {
   "cell_type": "code",
   "execution_count": 9,
   "metadata": {},
   "outputs": [],
   "source": [
    "sql3 = '''\n",
    "\n",
    "SELECT * FROM `sugisaki-sandbox.bq_test.query_1`\n",
    "\n",
    "union all \n",
    "\n",
    "SELECT * FROM `sugisaki-sandbox.bq_test.query_2`\n",
    "\n",
    "'''\n",
    "a.compose_query(3,sql3,\"bq_test\",\"query_3\",common_name='union',dependent_query=[1,2])"
   ]
  },
  {
   "cell_type": "code",
   "execution_count": 10,
   "metadata": {},
   "outputs": [],
   "source": [
    "sql4 = '''\n",
    "\n",
    "SELECT data_kbn, count(data_kbn) as cnt FROM `sugisaki-sandbox.bq_test.query_3`\n",
    "group by data_kbn\n",
    "\n",
    "'''\n",
    "a.compose_query(4,sql4,\"bq_test\",\"query_4\",common_name='group by',dependent_query=[3])"
   ]
  },
  {
   "cell_type": "code",
   "execution_count": 11,
   "metadata": {},
   "outputs": [],
   "source": [
    "a.render_graph()"
   ]
  },
  {
   "cell_type": "code",
   "execution_count": 12,
   "metadata": {},
   "outputs": [
    {
     "name": "stdout",
     "output_type": "stream",
     "text": [
      "0 jobs have been processed out of 4 jobs.\n",
      "Running \"2016_del\"(query_id :1) ...\n",
      "Query \"2016_del\" has been finished. 21.29 GBs are processed.\n",
      "Running \"2015_del\"(query_id :2) ...\n",
      "Query \"2015_del\" has been finished. 21.26 GBs are processed.\n",
      "2 jobs have been processed out of 4 jobs.\n",
      "Running \"union\"(query_id :3) ...\n",
      "Query \"union\" has been finished. 32.13 GBs are processed.\n",
      "3 jobs have been processed out of 4 jobs.\n",
      "Running \"group by\"(query_id :4) ...\n",
      "Query \"group by\" has been finished. 0.42 GBs are processed.\n",
      "Finished all jobs.\n"
     ]
    }
   ],
   "source": [
    "a.execute()"
   ]
  },
  {
   "cell_type": "code",
   "execution_count": null,
   "metadata": {},
   "outputs": [],
   "source": []
  }
 ],
 "metadata": {
  "jupytext": {
   "main_language": "python",
   "text_representation": {
    "extension": ".py",
    "format_name": "light",
    "format_version": "1.3",
    "jupytext_version": "1.0.5"
   }
  },
  "kernelspec": {
   "display_name": "Python 3",
   "language": "python",
   "name": "python3"
  },
  "language_info": {
   "codemirror_mode": {
    "name": "ipython",
    "version": 3
   },
   "file_extension": ".py",
   "mimetype": "text/x-python",
   "name": "python",
   "nbconvert_exporter": "python",
   "pygments_lexer": "ipython3",
   "version": "3.7.2"
  }
 },
 "nbformat": 4,
 "nbformat_minor": 2
}
